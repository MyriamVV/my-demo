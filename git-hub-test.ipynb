{
 "cells": [
  {
   "cell_type": "code",
   "execution_count": 1,
   "id": "0a48aeec",
   "metadata": {},
   "outputs": [],
   "source": [
    "rent = 500\n",
    "income = 1700"
   ]
  },
  {
   "cell_type": "code",
   "execution_count": 3,
   "id": "e496921a",
   "metadata": {},
   "outputs": [
    {
     "data": {
      "text/plain": [
       "29.411764705882355"
      ]
     },
     "execution_count": 3,
     "metadata": {},
     "output_type": "execute_result"
    }
   ],
   "source": [
    "rent_pct = rent/income * 100\n",
    "rent_pct"
   ]
  },
  {
   "cell_type": "code",
   "execution_count": 4,
   "id": "9054937c",
   "metadata": {},
   "outputs": [],
   "source": [
    "my_list = [1, 3, 5, 7, 5]"
   ]
  },
  {
   "cell_type": "code",
   "execution_count": 5,
   "id": "c610ae00",
   "metadata": {},
   "outputs": [
    {
     "name": "stdout",
     "output_type": "stream",
     "text": [
      "1\n",
      "3\n",
      "5\n",
      "7\n",
      "5\n"
     ]
    }
   ],
   "source": [
    "for number in my_list:\n",
    "    print(number)"
   ]
  },
  {
   "cell_type": "code",
   "execution_count": null,
   "id": "3b4ed1c8",
   "metadata": {},
   "outputs": [],
   "source": []
  }
 ],
 "metadata": {
  "kernelspec": {
   "display_name": "Python 3 (ipykernel)",
   "language": "python",
   "name": "python3"
  },
  "language_info": {
   "codemirror_mode": {
    "name": "ipython",
    "version": 3
   },
   "file_extension": ".py",
   "mimetype": "text/x-python",
   "name": "python",
   "nbconvert_exporter": "python",
   "pygments_lexer": "ipython3",
   "version": "3.9.7"
  }
 },
 "nbformat": 4,
 "nbformat_minor": 5
}
